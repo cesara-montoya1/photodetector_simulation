{
 "cells": [
  {
   "cell_type": "markdown",
   "id": "3af1f4fb",
   "metadata": {},
   "source": [
    "# Simulación de eficiencia de fotodetectores basados en semiconductores"
   ]
  },
  {
   "cell_type": "markdown",
   "id": "d887ff18",
   "metadata": {},
   "source": [
    "Autores:\n",
    "- Santiago Vélez Arboleda\n",
    "- César Augusto Montoya Ocampo"
   ]
  },
  {
   "cell_type": "markdown",
   "id": "dbd82e76",
   "metadata": {},
   "source": [
    "## Librerías"
   ]
  },
  {
   "cell_type": "code",
   "execution_count": 8,
   "id": "79f9564c",
   "metadata": {},
   "outputs": [
    {
     "name": "stdout",
     "output_type": "stream",
     "text": [
      "Librerías y módulos importados exitosamente.\n"
     ]
    }
   ],
   "source": [
    "import numpy as np\n",
    "import matplotlib.pyplot as plt\n",
    "import pint\n",
    "\n",
    "# Importar el UnitRegistry de constants.py para que todas las unidades sean consistentes\n",
    "from constants import u \n",
    "\n",
    "# Importar las clases que hemos definido\n",
    "from semiconductor import Semiconductor\n",
    "from photodetector import Photodetector\n",
    "\n",
    "# Configurar Matplotlib para gráficos más bonitos\n",
    "plt.rcParams.update({\n",
    "    'font.size': 12,\n",
    "    'axes.labelsize': 14,\n",
    "    'axes.titlesize': 16,\n",
    "    'xtick.labelsize': 12,\n",
    "    'ytick.labelsize': 12,\n",
    "    'legend.fontsize': 12,\n",
    "    'figure.figsize': (10, 6),\n",
    "    'lines.linewidth': 2,\n",
    "    'grid.linestyle': '--',\n",
    "    'grid.linewidth': 0.5\n",
    "})\n",
    "\n",
    "print(\"Librerías y módulos importados exitosamente.\")"
   ]
  },
  {
   "cell_type": "code",
   "execution_count": 9,
   "id": "f627cb45",
   "metadata": {},
   "outputs": [
    {
     "name": "stdout",
     "output_type": "stream",
     "text": [
      "Material semiconductor instanciado: Silicio (Si)\n",
      "\n",
      "Fotodetector instanciado con material: Silicio (Si)\n",
      "Espesor del fotodetector: 10 micrometer\n",
      "Reflectividad superficial: 0.30\n",
      "\n",
      "¡Listo para calcular la eficiencia cuántica y la responsividad!\n"
     ]
    }
   ],
   "source": [
    "# Celda 2\n",
    "\n",
    "# 1. Definir los datos de un material semiconductor (ej: Silicio)\n",
    "# Estos son datos simplificados para un ejemplo. En un caso real, serían más extensos y precisos.\n",
    "silicon_data = {\n",
    "    \"name\": \"Silicio (Si)\",\n",
    "    \"band_gap_0K\": 1.17 * u.eV, # Band gap a 0K\n",
    "    \"varshni_alpha\": 4.73e-4 * u.eV / u.kelvin**2,\n",
    "    \"varshni_beta\": 636 * u.kelvin,\n",
    "    \"electron_effective_mass\": 1.08, # Factor de la masa libre del electrón\n",
    "    \"hole_effective_mass\": 0.56,   # Factor de la masa libre del electrón\n",
    "    \"relative_permittivity\": 11.7, # Constante dieléctrica relativa\n",
    "    \"high_freq_permittivity\": 11.7, # Similar a la relativa para Si\n",
    "    \"sound_velocity\": 9000 * u.meter / u.second, # Valor aproximado\n",
    "    \"deformation_potential\": 5.0 * u.eV, # Valor aproximado\n",
    "    \"density\": 2329 * u.kg / u.meter**3,\n",
    "    \"elastic_constant\": 1.66e11 * u.pascal, # Para dispersión inter-valle\n",
    "    \"num_equivalent_valleys\": 6, # Para el silicio\n",
    "    \"LO_phonon_energy\": 0.063 * u.eV, # Aproximado para Si, necesario si es polar\n",
    "    \"is_polar\": False, # El Si es no polar\n",
    "    \"electron_lifetime\": 10e-6 * u.second, # Ejemplo: 10 microsegundos\n",
    "    \"hole_lifetime\": 10e-6 * u.second,     # Ejemplo: 10 microsegundos\n",
    "    \"absorption_coefficient_data\": { # Datos de absorción (ejemplo simplificado)\n",
    "        # Longitud de onda (nm): Coeficiente de absorción (cm^-1)\n",
    "        300: 1.0e5 * u.cm**-1, # <-- ¡CORRECCIÓN AQUÍ!\n",
    "        400: 5.0e4 * u.cm**-1, # <-- ¡CORRECCIÓN AQUÍ!\n",
    "        500: 1.0e4 * u.cm**-1, # <-- ¡CORRECCIÓN AQUÍ!\n",
    "        600: 3.0e3 * u.cm**-1, # <-- ¡CORRECCIÓN AQUÍ!\n",
    "        700: 1.0e3 * u.cm**-1, # <-- ¡CORRECCIÓN AQUÍ!\n",
    "        800: 3.0e2 * u.cm**-1, # <-- ¡CORRECCIÓN AQUÍ!\n",
    "        900: 8.0e1 * u.cm**-1, # <-- ¡CORRECCIÓN AQUÍ!\n",
    "        1000: 1.0e1 * u.cm**-1, # <-- ¡CORRECCIÓN AQUÍ!\n",
    "        1100: 1.0e0 * u.cm**-1, # <-- ¡CORRECCIÓN AQUÍ!\n",
    "        1200: 0.1 * u.cm**-1    # <-- ¡CORRECCIÓN AQUÍ!\n",
    "    }\n",
    "}\n",
    "\n",
    "# 2. Crear una instancia del Semiconductor\n",
    "silicon = Semiconductor(material_data=silicon_data)\n",
    "print(f\"Material semiconductor instanciado: {silicon.name}\")\n",
    "\n",
    "# 3. Definir los parámetros de un fotodetector simple\n",
    "# Espesor de la capa activa: 10 micrómetros\n",
    "detector_thickness = 10 * u.micrometer\n",
    "# Reflectividad superficial: 30% (ejemplo)\n",
    "detector_reflectivity = 0.30\n",
    "\n",
    "# 4. Crear una instancia del Fotodetector\n",
    "simple_photodetector = Photodetector(\n",
    "    semiconductor=silicon,\n",
    "    thickness=detector_thickness,\n",
    "    surface_reflectivity=detector_reflectivity\n",
    ")\n",
    "\n",
    "print(f\"\\nFotodetector instanciado con material: {simple_photodetector.semiconductor.name}\")\n",
    "print(f\"Espesor del fotodetector: {simple_photodetector.thickness.to(u.micrometer):.0f}\")\n",
    "print(f\"Reflectividad superficial: {simple_photodetector.surface_reflectivity:.2f}\")\n",
    "\n",
    "print(\"\\n¡Listo para calcular la eficiencia cuántica y la responsividad!\")"
   ]
  },
  {
   "cell_type": "code",
   "execution_count": null,
   "id": "dbc7774d",
   "metadata": {},
   "outputs": [
    {
     "name": "stdout",
     "output_type": "stream",
     "text": [
      "<class 'pint.Quantity'>\n"
     ]
    },
    {
     "name": "stderr",
     "output_type": "stream",
     "text": [
      "<>:33: SyntaxWarning: invalid escape sequence '\\e'\n",
      "<>:33: SyntaxWarning: invalid escape sequence '\\e'\n",
      "/tmp/ipykernel_63368/1124135707.py:33: SyntaxWarning: invalid escape sequence '\\e'\n",
      "  plt.ylabel('Eficiencia Cuántica ($\\eta$)')\n",
      "/tmp/ipykernel_63368/1124135707.py:33: SyntaxWarning: invalid escape sequence '\\e'\n",
      "  plt.ylabel('Eficiencia Cuántica ($\\eta$)')\n"
     ]
    },
    {
     "ename": "AttributeError",
     "evalue": "'numpy.float64' object has no attribute 'to'",
     "output_type": "error",
     "traceback": [
      "\u001b[31m---------------------------------------------------------------------------\u001b[39m",
      "\u001b[31mAttributeError\u001b[39m                            Traceback (most recent call last)",
      "\u001b[36mCell\u001b[39m\u001b[36m \u001b[39m\u001b[32mIn[11]\u001b[39m\u001b[32m, line 19\u001b[39m\n\u001b[32m     17\u001b[39m \u001b[38;5;28;01mfor\u001b[39;00m wl \u001b[38;5;129;01min\u001b[39;00m wavelengths:\n\u001b[32m     18\u001b[39m     \u001b[38;5;28mprint\u001b[39m(\u001b[38;5;28mtype\u001b[39m(wl))\n\u001b[32m---> \u001b[39m\u001b[32m19\u001b[39m     qe = \u001b[43msimple_photodetector\u001b[49m\u001b[43m.\u001b[49m\u001b[43mget_quantum_efficiency\u001b[49m\u001b[43m(\u001b[49m\u001b[43mwl\u001b[49m\u001b[43m,\u001b[49m\u001b[43m \u001b[49m\u001b[43moperation_temperature\u001b[49m\u001b[43m)\u001b[49m\n\u001b[32m     20\u001b[39m     resp = simple_photodetector.get_responsivity(wl.to(u.meter), operation_temperature)\n\u001b[32m     22\u001b[39m     quantum_efficiencies.append(qe.to(u.dimensionless).magnitude) \u001b[38;5;66;03m# Convertir a valor numérico adimensional\u001b[39;00m\n",
      "\u001b[36mFile \u001b[39m\u001b[32m~/.conda/envs/academy/lib/python3.13/site-packages/pint/registry_helpers.py:293\u001b[39m, in \u001b[36mwraps.<locals>.decorator.<locals>.wrapper\u001b[39m\u001b[34m(*values, **kw)\u001b[39m\n\u001b[32m    287\u001b[39m \u001b[38;5;66;03m# In principle, the values are used as is\u001b[39;00m\n\u001b[32m    288\u001b[39m \u001b[38;5;66;03m# When then extract the magnitudes when needed.\u001b[39;00m\n\u001b[32m    289\u001b[39m new_values, new_kw, values_by_name = converter(\n\u001b[32m    290\u001b[39m     ureg, sig, values, kw, strict\n\u001b[32m    291\u001b[39m )\n\u001b[32m--> \u001b[39m\u001b[32m293\u001b[39m result = \u001b[43mfunc\u001b[49m\u001b[43m(\u001b[49m\u001b[43m*\u001b[49m\u001b[43mnew_values\u001b[49m\u001b[43m,\u001b[49m\u001b[43m \u001b[49m\u001b[43m*\u001b[49m\u001b[43m*\u001b[49m\u001b[43mnew_kw\u001b[49m\u001b[43m)\u001b[49m\n\u001b[32m    295\u001b[39m \u001b[38;5;28;01mif\u001b[39;00m is_ret_container:\n\u001b[32m    296\u001b[39m     out_units = (\n\u001b[32m    297\u001b[39m         _replace_units(r, values_by_name) \u001b[38;5;28;01mif\u001b[39;00m is_ref \u001b[38;5;28;01melse\u001b[39;00m r\n\u001b[32m    298\u001b[39m         \u001b[38;5;28;01mfor\u001b[39;00m (r, is_ref) \u001b[38;5;129;01min\u001b[39;00m ret\n\u001b[32m    299\u001b[39m     )\n",
      "\u001b[36mFile \u001b[39m\u001b[32m~/Academy/UdeA/Semestre/Materiales en ingeniería/Simulaciones/photodetector_simulation/photodetector.py:68\u001b[39m, in \u001b[36mPhotodetector.get_quantum_efficiency\u001b[39m\u001b[34m(self, wavelength, temperature)\u001b[39m\n\u001b[32m     54\u001b[39m \u001b[38;5;250m\u001b[39m\u001b[33;03m\"\"\"\u001b[39;00m\n\u001b[32m     55\u001b[39m \u001b[33;03mCalcula la eficiencia cuántica (eta) del fotodetector.\u001b[39;00m\n\u001b[32m     56\u001b[39m \u001b[33;03meta = (1 - R) * (1 - exp(-alpha * W))\u001b[39;00m\n\u001b[32m   (...)\u001b[39m\u001b[32m     63\u001b[39m \u001b[33;03m                                 Esperada en unidades de temperatura.\u001b[39;00m\n\u001b[32m     64\u001b[39m \u001b[33;03m\"\"\"\u001b[39;00m\n\u001b[32m     65\u001b[39m \u001b[38;5;66;03m# El decorador ya se encargó de que 'wavelength' sea un pint.Quantity\u001b[39;00m\n\u001b[32m     66\u001b[39m \u001b[38;5;66;03m# Solo necesitamos su magnitud en nm para pasársela a get_absorption_coefficient\u001b[39;00m\n\u001b[32m     67\u001b[39m \u001b[38;5;66;03m# que espera un flotante en nm.\u001b[39;00m\n\u001b[32m---> \u001b[39m\u001b[32m68\u001b[39m wavelength_nm_value = \u001b[43mwavelength\u001b[49m\u001b[43m.\u001b[49m\u001b[43mto\u001b[49m(u.nm).magnitude  \u001b[38;5;66;03m# <--- Línea corregida\u001b[39;00m\n\u001b[32m     70\u001b[39m alpha = \u001b[38;5;28mself\u001b[39m.semiconductor.get_absorption_coefficient(\n\u001b[32m     71\u001b[39m     wavelength_nm_value\n\u001b[32m     72\u001b[39m )  \u001b[38;5;66;03m# <--- Usar el valor numérico\u001b[39;00m\n\u001b[32m     74\u001b[39m alpha_m = alpha.to(u.meter**-\u001b[32m1\u001b[39m)\n",
      "\u001b[31mAttributeError\u001b[39m: 'numpy.float64' object has no attribute 'to'"
     ]
    }
   ],
   "source": [
    "# Celda 3\n",
    "\n",
    "# Definir el rango de longitudes de onda para el cálculo\n",
    "# Vamos a ir desde 300 nm (UV) hasta 1200 nm (NIR cercano)\n",
    "# El Silicio es más sensible en el rango visible a infrarrojo cercano.\n",
    "wavelengths = np.linspace(300, 1200, 200) # 200 puntos entre 300 y 1200 nm\n",
    "wavelengths = [wavelength * u.nm for wavelength in wavelengths]  # Asegurar que son objetos pint\n",
    "\n",
    "# Definir una temperatura de operación (ej: temperatura ambiente)\n",
    "operation_temperature = 300 * u.kelvin\n",
    "\n",
    "# Listas para almacenar los resultados\n",
    "quantum_efficiencies = []\n",
    "responsivities = []\n",
    "\n",
    "# Calcular la eficiencia cuántica y la responsividad para cada longitud de onda\n",
    "for wl in wavelengths:\n",
    "    qe = simple_photodetector.get_quantum_efficiency(wl, operation_temperature)\n",
    "    resp = simple_photodetector.get_responsivity(wl, operation_temperature)\n",
    "\n",
    "    quantum_efficiencies.append(qe.to(u.dimensionless).magnitude) # Convertir a valor numérico adimensional\n",
    "    responsivities.append(resp.to(u.ampere/u.watt).magnitude)    # Convertir a valor numérico en A/W\n",
    "\n",
    "# Convertir listas a arrays de numpy para facilitar el graficado\n",
    "quantum_efficiencies = np.array(quantum_efficiencies)\n",
    "responsivities = np.array(responsivities)\n",
    "\n",
    "# --- Graficar la Eficiencia Cuántica ---\n",
    "plt.figure(figsize=(10, 6))\n",
    "plt.plot(wavelengths.to(u.nm).magnitude, quantum_efficiencies, label='Eficiencia Cuántica')\n",
    "plt.xlabel('Longitud de Onda (nm)')\n",
    "plt.ylabel('Eficiencia Cuántica ($\\eta$)')\n",
    "plt.title(f'Eficiencia Cuántica del Fotodetector de {simple_photodetector.semiconductor.name} (Espesor: {simple_photodetector.thickness.to(u.micrometer):.0f})')\n",
    "plt.grid(True)\n",
    "plt.legend()\n",
    "plt.tight_layout()\n",
    "plt.show()\n",
    "\n",
    "# --- Graficar la Responsividad ---i\n",
    "plt.figure(figsize=(10, 6))\n",
    "plt.plot(wavelengths.to(u.nm).magnitude, responsivities, label='Responsividad')\n",
    "plt.xlabel('Longitud de Onda (nm)')\n",
    "plt.ylabel('Responsividad (A/W)')\n",
    "plt.title(f'Responsividad del Fotodetector de {simple_photodetector.semiconductor.name} (Espesor: {simple_photodetector.thickness.to(u.micrometer):.0f})')\n",
    "plt.grid(True)\n",
    "plt.legend()\n",
    "plt.tight_layout()\n",
    "plt.show()\n",
    "\n",
    "print(\"\\nCálculos y gráficos completados.\")"
   ]
  },
  {
   "cell_type": "code",
   "execution_count": null,
   "id": "b0b8e96a",
   "metadata": {},
   "outputs": [],
   "source": []
  }
 ],
 "metadata": {
  "kernelspec": {
   "display_name": "base",
   "language": "python",
   "name": "python3"
  },
  "language_info": {
   "codemirror_mode": {
    "name": "ipython",
    "version": 3
   },
   "file_extension": ".py",
   "mimetype": "text/x-python",
   "name": "python",
   "nbconvert_exporter": "python",
   "pygments_lexer": "ipython3",
   "version": "3.13.2"
  }
 },
 "nbformat": 4,
 "nbformat_minor": 5
}
